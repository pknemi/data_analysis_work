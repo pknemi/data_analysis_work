{
 "cells": [
  {
   "cell_type": "markdown",
   "id": "3620f2c0-512e-4e47-bbba-90f53d062c16",
   "metadata": {},
   "source": [
    "# Create a data frame which contains name and age of workshop participants(random age)-both dictionary and list"
   ]
  },
  {
   "cell_type": "code",
   "execution_count": 1,
   "id": "21c5ba75-1fb5-4c68-a9a0-55ce86fb90cf",
   "metadata": {},
   "outputs": [],
   "source": [
    "import pandas as pd"
   ]
  },
  {
   "cell_type": "code",
   "execution_count": 6,
   "id": "945a7f1d-ba63-4e00-abea-bc3dbf45d4c2",
   "metadata": {},
   "outputs": [],
   "source": [
    "import random"
   ]
  },
  {
   "cell_type": "code",
   "execution_count": 7,
   "id": "8663dfe8-6ae5-448e-a76e-7089c5fe085c",
   "metadata": {},
   "outputs": [
    {
     "data": {
      "text/plain": [
       "{'name': ['adnan', 'nemi', 'rashid', 'yasir'], 'age': [31, 40, 31, 27]}"
      ]
     },
     "execution_count": 7,
     "metadata": {},
     "output_type": "execute_result"
    }
   ],
   "source": [
    "wrk_shp={\"name\":[\"adnan\",\"nemi\",\"rashid\",\"yasir\"],\"age\":[random.randint(20,40) for i in range(4)]}\n",
    "wrk_shp\n"
   ]
  },
  {
   "cell_type": "code",
   "execution_count": 8,
   "id": "61506d67-9b50-44ec-b87c-a74b3f7b0f5c",
   "metadata": {},
   "outputs": [
    {
     "data": {
      "text/html": [
       "<div>\n",
       "<style scoped>\n",
       "    .dataframe tbody tr th:only-of-type {\n",
       "        vertical-align: middle;\n",
       "    }\n",
       "\n",
       "    .dataframe tbody tr th {\n",
       "        vertical-align: top;\n",
       "    }\n",
       "\n",
       "    .dataframe thead th {\n",
       "        text-align: right;\n",
       "    }\n",
       "</style>\n",
       "<table border=\"1\" class=\"dataframe\">\n",
       "  <thead>\n",
       "    <tr style=\"text-align: right;\">\n",
       "      <th></th>\n",
       "      <th>name</th>\n",
       "      <th>age</th>\n",
       "    </tr>\n",
       "  </thead>\n",
       "  <tbody>\n",
       "    <tr>\n",
       "      <th>0</th>\n",
       "      <td>adnan</td>\n",
       "      <td>31</td>\n",
       "    </tr>\n",
       "    <tr>\n",
       "      <th>1</th>\n",
       "      <td>nemi</td>\n",
       "      <td>40</td>\n",
       "    </tr>\n",
       "    <tr>\n",
       "      <th>2</th>\n",
       "      <td>rashid</td>\n",
       "      <td>31</td>\n",
       "    </tr>\n",
       "    <tr>\n",
       "      <th>3</th>\n",
       "      <td>yasir</td>\n",
       "      <td>27</td>\n",
       "    </tr>\n",
       "  </tbody>\n",
       "</table>\n",
       "</div>"
      ],
      "text/plain": [
       "     name  age\n",
       "0   adnan   31\n",
       "1    nemi   40\n",
       "2  rashid   31\n",
       "3   yasir   27"
      ]
     },
     "execution_count": 8,
     "metadata": {},
     "output_type": "execute_result"
    }
   ],
   "source": [
    "pd.DataFrame(wrk_shp)"
   ]
  },
  {
   "cell_type": "code",
   "execution_count": 13,
   "id": "b409ce25-c6e0-4701-979f-0e372f741b39",
   "metadata": {},
   "outputs": [
    {
     "data": {
      "text/html": [
       "<div>\n",
       "<style scoped>\n",
       "    .dataframe tbody tr th:only-of-type {\n",
       "        vertical-align: middle;\n",
       "    }\n",
       "\n",
       "    .dataframe tbody tr th {\n",
       "        vertical-align: top;\n",
       "    }\n",
       "\n",
       "    .dataframe thead th {\n",
       "        text-align: right;\n",
       "    }\n",
       "</style>\n",
       "<table border=\"1\" class=\"dataframe\">\n",
       "  <thead>\n",
       "    <tr style=\"text-align: right;\">\n",
       "      <th></th>\n",
       "      <th>name</th>\n",
       "      <th>age</th>\n",
       "    </tr>\n",
       "  </thead>\n",
       "  <tbody>\n",
       "    <tr>\n",
       "      <th>0</th>\n",
       "      <td>ami</td>\n",
       "      <td>39</td>\n",
       "    </tr>\n",
       "    <tr>\n",
       "      <th>1</th>\n",
       "      <td>nemi</td>\n",
       "      <td>23</td>\n",
       "    </tr>\n",
       "    <tr>\n",
       "      <th>2</th>\n",
       "      <td>remi</td>\n",
       "      <td>38</td>\n",
       "    </tr>\n",
       "  </tbody>\n",
       "</table>\n",
       "</div>"
      ],
      "text/plain": [
       "   name  age\n",
       "0   ami   39\n",
       "1  nemi   23\n",
       "2  remi   38"
      ]
     },
     "execution_count": 13,
     "metadata": {},
     "output_type": "execute_result"
    }
   ],
   "source": [
    "name=[\"ami\",\"nemi\",\"remi\"]\n",
    "age=[random.randint(20,40) for i in range(4)]\n",
    "df=pd.DataFrame(list(zip(name,age)),columns=(\"name\",\"age\"))\n",
    "df"
   ]
  },
  {
   "cell_type": "markdown",
   "id": "d1a17786-e985-42cc-ba8f-447090aa8aee",
   "metadata": {},
   "source": [
    "# Read 5 different data sets and perform basics tasks"
   ]
  },
  {
   "cell_type": "code",
   "execution_count": 14,
   "id": "663668b7-bba0-4549-b2c5-2582abaaabf3",
   "metadata": {},
   "outputs": [],
   "source": [
    "import pandas as pd"
   ]
  },
  {
   "cell_type": "markdown",
   "id": "b98c065b-cbc4-4a0b-8410-c4188d84b353",
   "metadata": {},
   "source": [
    "# 1.Indian states dataset"
   ]
  },
  {
   "cell_type": "code",
   "execution_count": 17,
   "id": "c64e965a-e764-410b-a386-10757259bfdf",
   "metadata": {},
   "outputs": [
    {
     "data": {
      "text/html": [
       "<div>\n",
       "<style scoped>\n",
       "    .dataframe tbody tr th:only-of-type {\n",
       "        vertical-align: middle;\n",
       "    }\n",
       "\n",
       "    .dataframe tbody tr th {\n",
       "        vertical-align: top;\n",
       "    }\n",
       "\n",
       "    .dataframe thead th {\n",
       "        text-align: right;\n",
       "    }\n",
       "</style>\n",
       "<table border=\"1\" class=\"dataframe\">\n",
       "  <thead>\n",
       "    <tr style=\"text-align: right;\">\n",
       "      <th></th>\n",
       "      <th>State</th>\n",
       "      <th>District</th>\n",
       "      <th>Total Gram Panchayats</th>\n",
       "      <th>Service Ready Gram Panchayats</th>\n",
       "    </tr>\n",
       "  </thead>\n",
       "  <tbody>\n",
       "    <tr>\n",
       "      <th>0</th>\n",
       "      <td>ANDAMAN AND NICOBAR ISLANDS</td>\n",
       "      <td>NICOBARS</td>\n",
       "      <td>8</td>\n",
       "      <td>7</td>\n",
       "    </tr>\n",
       "    <tr>\n",
       "      <th>1</th>\n",
       "      <td>ANDAMAN AND NICOBAR ISLANDS</td>\n",
       "      <td>NORTH AND MIDDLE ANDAMAN</td>\n",
       "      <td>37</td>\n",
       "      <td>37</td>\n",
       "    </tr>\n",
       "    <tr>\n",
       "      <th>2</th>\n",
       "      <td>ANDAMAN AND NICOBAR ISLANDS</td>\n",
       "      <td>SOUTH ANDAMANS</td>\n",
       "      <td>30</td>\n",
       "      <td>30</td>\n",
       "    </tr>\n",
       "    <tr>\n",
       "      <th>3</th>\n",
       "      <td>ANDHRA PRADESH</td>\n",
       "      <td>ANANTAPUR</td>\n",
       "      <td>1044</td>\n",
       "      <td>996</td>\n",
       "    </tr>\n",
       "    <tr>\n",
       "      <th>4</th>\n",
       "      <td>ANDHRA PRADESH</td>\n",
       "      <td>CHITTOOR</td>\n",
       "      <td>1412</td>\n",
       "      <td>1193</td>\n",
       "    </tr>\n",
       "    <tr>\n",
       "      <th>...</th>\n",
       "      <td>...</td>\n",
       "      <td>...</td>\n",
       "      <td>...</td>\n",
       "      <td>...</td>\n",
       "    </tr>\n",
       "    <tr>\n",
       "      <th>711</th>\n",
       "      <td>WEST BENGAL</td>\n",
       "      <td>NADIA</td>\n",
       "      <td>185</td>\n",
       "      <td>185</td>\n",
       "    </tr>\n",
       "    <tr>\n",
       "      <th>712</th>\n",
       "      <td>WEST BENGAL</td>\n",
       "      <td>PASCHIM BARDHAMAN</td>\n",
       "      <td>62</td>\n",
       "      <td>56</td>\n",
       "    </tr>\n",
       "    <tr>\n",
       "      <th>713</th>\n",
       "      <td>WEST BENGAL</td>\n",
       "      <td>PURBA BARDHAMAN</td>\n",
       "      <td>215</td>\n",
       "      <td>116</td>\n",
       "    </tr>\n",
       "    <tr>\n",
       "      <th>714</th>\n",
       "      <td>WEST BENGAL</td>\n",
       "      <td>PURULIA</td>\n",
       "      <td>170</td>\n",
       "      <td>170</td>\n",
       "    </tr>\n",
       "    <tr>\n",
       "      <th>715</th>\n",
       "      <td>Total</td>\n",
       "      <td>NaN</td>\n",
       "      <td>262489</td>\n",
       "      <td>208099</td>\n",
       "    </tr>\n",
       "  </tbody>\n",
       "</table>\n",
       "<p>716 rows × 4 columns</p>\n",
       "</div>"
      ],
      "text/plain": [
       "                          State                   District  \\\n",
       "0    ANDAMAN AND NICOBAR ISLANDS                  NICOBARS   \n",
       "1    ANDAMAN AND NICOBAR ISLANDS  NORTH AND MIDDLE ANDAMAN   \n",
       "2    ANDAMAN AND NICOBAR ISLANDS            SOUTH ANDAMANS   \n",
       "3                 ANDHRA PRADESH                 ANANTAPUR   \n",
       "4                 ANDHRA PRADESH                  CHITTOOR   \n",
       "..                           ...                       ...   \n",
       "711                  WEST BENGAL                     NADIA   \n",
       "712                  WEST BENGAL         PASCHIM BARDHAMAN   \n",
       "713                  WEST BENGAL           PURBA BARDHAMAN   \n",
       "714                  WEST BENGAL                   PURULIA   \n",
       "715                        Total                       NaN   \n",
       "\n",
       "     Total Gram Panchayats  Service Ready Gram Panchayats  \n",
       "0                        8                              7  \n",
       "1                       37                             37  \n",
       "2                       30                             30  \n",
       "3                     1044                            996  \n",
       "4                     1412                           1193  \n",
       "..                     ...                            ...  \n",
       "711                    185                            185  \n",
       "712                     62                             56  \n",
       "713                    215                            116  \n",
       "714                    170                            170  \n",
       "715                 262489                         208099  \n",
       "\n",
       "[716 rows x 4 columns]"
      ]
     },
     "execution_count": 17,
     "metadata": {},
     "output_type": "execute_result"
    }
   ],
   "source": [
    "df=pd.read_csv(\"datasetgov.csv\")\n",
    "df"
   ]
  },
  {
   "cell_type": "code",
   "execution_count": 18,
   "id": "740e8aed-0785-4896-9fee-a24ae9199a5b",
   "metadata": {},
   "outputs": [
    {
     "name": "stdout",
     "output_type": "stream",
     "text": [
      "<class 'pandas.core.frame.DataFrame'>\n",
      "RangeIndex: 716 entries, 0 to 715\n",
      "Data columns (total 4 columns):\n",
      " #   Column                         Non-Null Count  Dtype \n",
      "---  ------                         --------------  ----- \n",
      " 0   State                          716 non-null    object\n",
      " 1   District                       715 non-null    object\n",
      " 2   Total Gram Panchayats          716 non-null    int64 \n",
      " 3   Service Ready Gram Panchayats  716 non-null    int64 \n",
      "dtypes: int64(2), object(2)\n",
      "memory usage: 22.5+ KB\n"
     ]
    }
   ],
   "source": [
    "df.info()"
   ]
  },
  {
   "cell_type": "code",
   "execution_count": 19,
   "id": "492c38a9-a90c-40a5-b00b-12517b078e45",
   "metadata": {},
   "outputs": [
    {
     "data": {
      "text/html": [
       "<div>\n",
       "<style scoped>\n",
       "    .dataframe tbody tr th:only-of-type {\n",
       "        vertical-align: middle;\n",
       "    }\n",
       "\n",
       "    .dataframe tbody tr th {\n",
       "        vertical-align: top;\n",
       "    }\n",
       "\n",
       "    .dataframe thead th {\n",
       "        text-align: right;\n",
       "    }\n",
       "</style>\n",
       "<table border=\"1\" class=\"dataframe\">\n",
       "  <thead>\n",
       "    <tr style=\"text-align: right;\">\n",
       "      <th></th>\n",
       "      <th>State</th>\n",
       "      <th>District</th>\n",
       "      <th>Total Gram Panchayats</th>\n",
       "      <th>Service Ready Gram Panchayats</th>\n",
       "    </tr>\n",
       "  </thead>\n",
       "  <tbody>\n",
       "    <tr>\n",
       "      <th>0</th>\n",
       "      <td>ANDAMAN AND NICOBAR ISLANDS</td>\n",
       "      <td>NICOBARS</td>\n",
       "      <td>8</td>\n",
       "      <td>7</td>\n",
       "    </tr>\n",
       "    <tr>\n",
       "      <th>1</th>\n",
       "      <td>ANDAMAN AND NICOBAR ISLANDS</td>\n",
       "      <td>NORTH AND MIDDLE ANDAMAN</td>\n",
       "      <td>37</td>\n",
       "      <td>37</td>\n",
       "    </tr>\n",
       "    <tr>\n",
       "      <th>2</th>\n",
       "      <td>ANDAMAN AND NICOBAR ISLANDS</td>\n",
       "      <td>SOUTH ANDAMANS</td>\n",
       "      <td>30</td>\n",
       "      <td>30</td>\n",
       "    </tr>\n",
       "    <tr>\n",
       "      <th>3</th>\n",
       "      <td>ANDHRA PRADESH</td>\n",
       "      <td>ANANTAPUR</td>\n",
       "      <td>1044</td>\n",
       "      <td>996</td>\n",
       "    </tr>\n",
       "    <tr>\n",
       "      <th>4</th>\n",
       "      <td>ANDHRA PRADESH</td>\n",
       "      <td>CHITTOOR</td>\n",
       "      <td>1412</td>\n",
       "      <td>1193</td>\n",
       "    </tr>\n",
       "  </tbody>\n",
       "</table>\n",
       "</div>"
      ],
      "text/plain": [
       "                        State                   District  \\\n",
       "0  ANDAMAN AND NICOBAR ISLANDS                  NICOBARS   \n",
       "1  ANDAMAN AND NICOBAR ISLANDS  NORTH AND MIDDLE ANDAMAN   \n",
       "2  ANDAMAN AND NICOBAR ISLANDS            SOUTH ANDAMANS   \n",
       "3               ANDHRA PRADESH                 ANANTAPUR   \n",
       "4               ANDHRA PRADESH                  CHITTOOR   \n",
       "\n",
       "   Total Gram Panchayats  Service Ready Gram Panchayats  \n",
       "0                      8                              7  \n",
       "1                     37                             37  \n",
       "2                     30                             30  \n",
       "3                   1044                            996  \n",
       "4                   1412                           1193  "
      ]
     },
     "execution_count": 19,
     "metadata": {},
     "output_type": "execute_result"
    }
   ],
   "source": [
    "df.head()"
   ]
  },
  {
   "cell_type": "code",
   "execution_count": 20,
   "id": "caca130a-63e2-4496-8260-4a22d9659c2a",
   "metadata": {},
   "outputs": [
    {
     "data": {
      "text/plain": [
       "2864"
      ]
     },
     "execution_count": 20,
     "metadata": {},
     "output_type": "execute_result"
    }
   ],
   "source": [
    "df.size"
   ]
  },
  {
   "cell_type": "code",
   "execution_count": 21,
   "id": "01b96951-9338-47ab-bfc9-f54725f5895b",
   "metadata": {},
   "outputs": [
    {
     "data": {
      "text/plain": [
       "(716, 4)"
      ]
     },
     "execution_count": 21,
     "metadata": {},
     "output_type": "execute_result"
    }
   ],
   "source": [
    "df.shape"
   ]
  },
  {
   "cell_type": "code",
   "execution_count": 22,
   "id": "5ef2dd01-fd0d-4297-bbb4-eb2d4020275a",
   "metadata": {},
   "outputs": [
    {
     "data": {
      "text/plain": [
       "Index(['State ', 'District', 'Total Gram Panchayats',\n",
       "       'Service Ready Gram Panchayats'],\n",
       "      dtype='object')"
      ]
     },
     "execution_count": 22,
     "metadata": {},
     "output_type": "execute_result"
    }
   ],
   "source": [
    "df.columns"
   ]
  },
  {
   "cell_type": "markdown",
   "id": "06ddd649-5d56-4aed-979d-fc17b2dc3f01",
   "metadata": {},
   "source": [
    "# 2.placement dataset"
   ]
  },
  {
   "cell_type": "code",
   "execution_count": 24,
   "id": "93d262cb-d251-4724-8aa7-79d3582f397b",
   "metadata": {},
   "outputs": [
    {
     "data": {
      "text/html": [
       "<div>\n",
       "<style scoped>\n",
       "    .dataframe tbody tr th:only-of-type {\n",
       "        vertical-align: middle;\n",
       "    }\n",
       "\n",
       "    .dataframe tbody tr th {\n",
       "        vertical-align: top;\n",
       "    }\n",
       "\n",
       "    .dataframe thead th {\n",
       "        text-align: right;\n",
       "    }\n",
       "</style>\n",
       "<table border=\"1\" class=\"dataframe\">\n",
       "  <thead>\n",
       "    <tr style=\"text-align: right;\">\n",
       "      <th></th>\n",
       "      <th>city</th>\n",
       "      <th>cgpa</th>\n",
       "      <th>iq</th>\n",
       "      <th>placement</th>\n",
       "    </tr>\n",
       "  </thead>\n",
       "  <tbody>\n",
       "    <tr>\n",
       "      <th>0</th>\n",
       "      <td>New York</td>\n",
       "      <td>6.8</td>\n",
       "      <td>123.0</td>\n",
       "      <td>1</td>\n",
       "    </tr>\n",
       "    <tr>\n",
       "      <th>1</th>\n",
       "      <td>Los Angeles</td>\n",
       "      <td>5.9</td>\n",
       "      <td>106.0</td>\n",
       "      <td>0</td>\n",
       "    </tr>\n",
       "    <tr>\n",
       "      <th>2</th>\n",
       "      <td>Chicago</td>\n",
       "      <td>NaN</td>\n",
       "      <td>121.0</td>\n",
       "      <td>0</td>\n",
       "    </tr>\n",
       "    <tr>\n",
       "      <th>3</th>\n",
       "      <td>New York</td>\n",
       "      <td>7.4</td>\n",
       "      <td>132.0</td>\n",
       "      <td>1</td>\n",
       "    </tr>\n",
       "    <tr>\n",
       "      <th>4</th>\n",
       "      <td>Los Angeles</td>\n",
       "      <td>5.8</td>\n",
       "      <td>142.0</td>\n",
       "      <td>0</td>\n",
       "    </tr>\n",
       "    <tr>\n",
       "      <th>...</th>\n",
       "      <td>...</td>\n",
       "      <td>...</td>\n",
       "      <td>...</td>\n",
       "      <td>...</td>\n",
       "    </tr>\n",
       "    <tr>\n",
       "      <th>95</th>\n",
       "      <td>Chicago</td>\n",
       "      <td>4.3</td>\n",
       "      <td>200.0</td>\n",
       "      <td>0</td>\n",
       "    </tr>\n",
       "    <tr>\n",
       "      <th>96</th>\n",
       "      <td>New York</td>\n",
       "      <td>4.4</td>\n",
       "      <td>42.0</td>\n",
       "      <td>0</td>\n",
       "    </tr>\n",
       "    <tr>\n",
       "      <th>97</th>\n",
       "      <td>Los Angeles</td>\n",
       "      <td>6.7</td>\n",
       "      <td>182.0</td>\n",
       "      <td>1</td>\n",
       "    </tr>\n",
       "    <tr>\n",
       "      <th>98</th>\n",
       "      <td>Chicago</td>\n",
       "      <td>6.3</td>\n",
       "      <td>103.0</td>\n",
       "      <td>1</td>\n",
       "    </tr>\n",
       "    <tr>\n",
       "      <th>99</th>\n",
       "      <td>New York</td>\n",
       "      <td>6.2</td>\n",
       "      <td>113.0</td>\n",
       "      <td>1</td>\n",
       "    </tr>\n",
       "  </tbody>\n",
       "</table>\n",
       "<p>100 rows × 4 columns</p>\n",
       "</div>"
      ],
      "text/plain": [
       "           city  cgpa     iq  placement\n",
       "0      New York   6.8  123.0          1\n",
       "1   Los Angeles   5.9  106.0          0\n",
       "2       Chicago   NaN  121.0          0\n",
       "3      New York   7.4  132.0          1\n",
       "4   Los Angeles   5.8  142.0          0\n",
       "..          ...   ...    ...        ...\n",
       "95      Chicago   4.3  200.0          0\n",
       "96     New York   4.4   42.0          0\n",
       "97  Los Angeles   6.7  182.0          1\n",
       "98      Chicago   6.3  103.0          1\n",
       "99     New York   6.2  113.0          1\n",
       "\n",
       "[100 rows x 4 columns]"
      ]
     },
     "execution_count": 24,
     "metadata": {},
     "output_type": "execute_result"
    }
   ],
   "source": [
    "df=pd.read_csv(\"disease/placement-dataset.csv\")\n",
    "df\n"
   ]
  },
  {
   "cell_type": "code",
   "execution_count": 25,
   "id": "a044659a-73f8-4ac1-926b-bb8f2f4e1e12",
   "metadata": {},
   "outputs": [
    {
     "name": "stdout",
     "output_type": "stream",
     "text": [
      "<class 'pandas.core.frame.DataFrame'>\n",
      "RangeIndex: 100 entries, 0 to 99\n",
      "Data columns (total 4 columns):\n",
      " #   Column     Non-Null Count  Dtype  \n",
      "---  ------     --------------  -----  \n",
      " 0   city       100 non-null    object \n",
      " 1   cgpa       92 non-null     float64\n",
      " 2   iq         96 non-null     float64\n",
      " 3   placement  100 non-null    int64  \n",
      "dtypes: float64(2), int64(1), object(1)\n",
      "memory usage: 3.3+ KB\n"
     ]
    }
   ],
   "source": [
    "df.info()"
   ]
  },
  {
   "cell_type": "code",
   "execution_count": 26,
   "id": "05e7e70b-199f-4143-8d00-88e87cee7c16",
   "metadata": {},
   "outputs": [
    {
     "data": {
      "text/plain": [
       "400"
      ]
     },
     "execution_count": 26,
     "metadata": {},
     "output_type": "execute_result"
    }
   ],
   "source": [
    "df.size"
   ]
  },
  {
   "cell_type": "code",
   "execution_count": 27,
   "id": "0892c69d-4209-422d-aafb-8b5d29f3dfab",
   "metadata": {},
   "outputs": [
    {
     "data": {
      "text/plain": [
       "(100, 4)"
      ]
     },
     "execution_count": 27,
     "metadata": {},
     "output_type": "execute_result"
    }
   ],
   "source": [
    "df.shape"
   ]
  },
  {
   "cell_type": "code",
   "execution_count": 28,
   "id": "893aa2b2-5864-4ed8-89ab-b0de97544235",
   "metadata": {},
   "outputs": [
    {
     "data": {
      "text/plain": [
       "Index(['city', 'cgpa', 'iq', 'placement'], dtype='object')"
      ]
     },
     "execution_count": 28,
     "metadata": {},
     "output_type": "execute_result"
    }
   ],
   "source": [
    "df.columns"
   ]
  },
  {
   "cell_type": "code",
   "execution_count": 29,
   "id": "19ddd4af-dd4d-4f1d-aed8-219ba02ce6b3",
   "metadata": {},
   "outputs": [
    {
     "data": {
      "text/html": [
       "<div>\n",
       "<style scoped>\n",
       "    .dataframe tbody tr th:only-of-type {\n",
       "        vertical-align: middle;\n",
       "    }\n",
       "\n",
       "    .dataframe tbody tr th {\n",
       "        vertical-align: top;\n",
       "    }\n",
       "\n",
       "    .dataframe thead th {\n",
       "        text-align: right;\n",
       "    }\n",
       "</style>\n",
       "<table border=\"1\" class=\"dataframe\">\n",
       "  <thead>\n",
       "    <tr style=\"text-align: right;\">\n",
       "      <th></th>\n",
       "      <th>city</th>\n",
       "      <th>cgpa</th>\n",
       "      <th>iq</th>\n",
       "      <th>placement</th>\n",
       "    </tr>\n",
       "  </thead>\n",
       "  <tbody>\n",
       "    <tr>\n",
       "      <th>0</th>\n",
       "      <td>New York</td>\n",
       "      <td>6.8</td>\n",
       "      <td>123.0</td>\n",
       "      <td>1</td>\n",
       "    </tr>\n",
       "    <tr>\n",
       "      <th>1</th>\n",
       "      <td>Los Angeles</td>\n",
       "      <td>5.9</td>\n",
       "      <td>106.0</td>\n",
       "      <td>0</td>\n",
       "    </tr>\n",
       "    <tr>\n",
       "      <th>2</th>\n",
       "      <td>Chicago</td>\n",
       "      <td>NaN</td>\n",
       "      <td>121.0</td>\n",
       "      <td>0</td>\n",
       "    </tr>\n",
       "    <tr>\n",
       "      <th>3</th>\n",
       "      <td>New York</td>\n",
       "      <td>7.4</td>\n",
       "      <td>132.0</td>\n",
       "      <td>1</td>\n",
       "    </tr>\n",
       "    <tr>\n",
       "      <th>4</th>\n",
       "      <td>Los Angeles</td>\n",
       "      <td>5.8</td>\n",
       "      <td>142.0</td>\n",
       "      <td>0</td>\n",
       "    </tr>\n",
       "  </tbody>\n",
       "</table>\n",
       "</div>"
      ],
      "text/plain": [
       "          city  cgpa     iq  placement\n",
       "0     New York   6.8  123.0          1\n",
       "1  Los Angeles   5.9  106.0          0\n",
       "2      Chicago   NaN  121.0          0\n",
       "3     New York   7.4  132.0          1\n",
       "4  Los Angeles   5.8  142.0          0"
      ]
     },
     "execution_count": 29,
     "metadata": {},
     "output_type": "execute_result"
    }
   ],
   "source": [
    "df.head()"
   ]
  },
  {
   "cell_type": "code",
   "execution_count": 30,
   "id": "3160527f-da57-4e5e-98c6-b9c060c4cacc",
   "metadata": {},
   "outputs": [
    {
     "data": {
      "text/html": [
       "<div>\n",
       "<style scoped>\n",
       "    .dataframe tbody tr th:only-of-type {\n",
       "        vertical-align: middle;\n",
       "    }\n",
       "\n",
       "    .dataframe tbody tr th {\n",
       "        vertical-align: top;\n",
       "    }\n",
       "\n",
       "    .dataframe thead th {\n",
       "        text-align: right;\n",
       "    }\n",
       "</style>\n",
       "<table border=\"1\" class=\"dataframe\">\n",
       "  <thead>\n",
       "    <tr style=\"text-align: right;\">\n",
       "      <th></th>\n",
       "      <th>city</th>\n",
       "      <th>cgpa</th>\n",
       "      <th>iq</th>\n",
       "      <th>placement</th>\n",
       "    </tr>\n",
       "  </thead>\n",
       "  <tbody>\n",
       "    <tr>\n",
       "      <th>95</th>\n",
       "      <td>Chicago</td>\n",
       "      <td>4.3</td>\n",
       "      <td>200.0</td>\n",
       "      <td>0</td>\n",
       "    </tr>\n",
       "    <tr>\n",
       "      <th>96</th>\n",
       "      <td>New York</td>\n",
       "      <td>4.4</td>\n",
       "      <td>42.0</td>\n",
       "      <td>0</td>\n",
       "    </tr>\n",
       "    <tr>\n",
       "      <th>97</th>\n",
       "      <td>Los Angeles</td>\n",
       "      <td>6.7</td>\n",
       "      <td>182.0</td>\n",
       "      <td>1</td>\n",
       "    </tr>\n",
       "    <tr>\n",
       "      <th>98</th>\n",
       "      <td>Chicago</td>\n",
       "      <td>6.3</td>\n",
       "      <td>103.0</td>\n",
       "      <td>1</td>\n",
       "    </tr>\n",
       "    <tr>\n",
       "      <th>99</th>\n",
       "      <td>New York</td>\n",
       "      <td>6.2</td>\n",
       "      <td>113.0</td>\n",
       "      <td>1</td>\n",
       "    </tr>\n",
       "  </tbody>\n",
       "</table>\n",
       "</div>"
      ],
      "text/plain": [
       "           city  cgpa     iq  placement\n",
       "95      Chicago   4.3  200.0          0\n",
       "96     New York   4.4   42.0          0\n",
       "97  Los Angeles   6.7  182.0          1\n",
       "98      Chicago   6.3  103.0          1\n",
       "99     New York   6.2  113.0          1"
      ]
     },
     "execution_count": 30,
     "metadata": {},
     "output_type": "execute_result"
    }
   ],
   "source": [
    "df.tail()"
   ]
  },
  {
   "cell_type": "markdown",
   "id": "f0f0fd29-1b68-4583-b89c-f20445600f02",
   "metadata": {},
   "source": [
    "# 3.Disease dataset"
   ]
  },
  {
   "cell_type": "code",
   "execution_count": 32,
   "id": "2edc31de-b183-4b8c-ab79-5bb5f5d03856",
   "metadata": {},
   "outputs": [
    {
     "data": {
      "text/html": [
       "<div>\n",
       "<style scoped>\n",
       "    .dataframe tbody tr th:only-of-type {\n",
       "        vertical-align: middle;\n",
       "    }\n",
       "\n",
       "    .dataframe tbody tr th {\n",
       "        vertical-align: top;\n",
       "    }\n",
       "\n",
       "    .dataframe thead th {\n",
       "        text-align: right;\n",
       "    }\n",
       "</style>\n",
       "<table border=\"1\" class=\"dataframe\">\n",
       "  <thead>\n",
       "    <tr style=\"text-align: right;\">\n",
       "      <th></th>\n",
       "      <th>Unnamed: 0</th>\n",
       "      <th>text</th>\n",
       "      <th>Emotion</th>\n",
       "    </tr>\n",
       "  </thead>\n",
       "  <tbody>\n",
       "    <tr>\n",
       "      <th>0</th>\n",
       "      <td>0</td>\n",
       "      <td>i seriously hate one subject to death but now ...</td>\n",
       "      <td>hate</td>\n",
       "    </tr>\n",
       "    <tr>\n",
       "      <th>1</th>\n",
       "      <td>1</td>\n",
       "      <td>im so full of life i feel appalled</td>\n",
       "      <td>neutral</td>\n",
       "    </tr>\n",
       "    <tr>\n",
       "      <th>2</th>\n",
       "      <td>2</td>\n",
       "      <td>i sit here to write i start to dig out my feel...</td>\n",
       "      <td>neutral</td>\n",
       "    </tr>\n",
       "    <tr>\n",
       "      <th>3</th>\n",
       "      <td>3</td>\n",
       "      <td>ive been really angry with r and i feel like a...</td>\n",
       "      <td>anger</td>\n",
       "    </tr>\n",
       "    <tr>\n",
       "      <th>4</th>\n",
       "      <td>4</td>\n",
       "      <td>i feel suspicious if there is no one outside l...</td>\n",
       "      <td>neutral</td>\n",
       "    </tr>\n",
       "    <tr>\n",
       "      <th>...</th>\n",
       "      <td>...</td>\n",
       "      <td>...</td>\n",
       "      <td>...</td>\n",
       "    </tr>\n",
       "    <tr>\n",
       "      <th>839550</th>\n",
       "      <td>839550</td>\n",
       "      <td>i feel like telling these horny devils to find...</td>\n",
       "      <td>neutral</td>\n",
       "    </tr>\n",
       "    <tr>\n",
       "      <th>839551</th>\n",
       "      <td>839551</td>\n",
       "      <td>i began to realize that when i was feeling agi...</td>\n",
       "      <td>neutral</td>\n",
       "    </tr>\n",
       "    <tr>\n",
       "      <th>839552</th>\n",
       "      <td>839552</td>\n",
       "      <td>i feel very curious be why previous early dawn...</td>\n",
       "      <td>neutral</td>\n",
       "    </tr>\n",
       "    <tr>\n",
       "      <th>839553</th>\n",
       "      <td>839553</td>\n",
       "      <td>i feel that becuase of the tyranical nature of...</td>\n",
       "      <td>neutral</td>\n",
       "    </tr>\n",
       "    <tr>\n",
       "      <th>839554</th>\n",
       "      <td>839554</td>\n",
       "      <td>i think that after i had spent some time inves...</td>\n",
       "      <td>neutral</td>\n",
       "    </tr>\n",
       "  </tbody>\n",
       "</table>\n",
       "<p>839555 rows × 3 columns</p>\n",
       "</div>"
      ],
      "text/plain": [
       "        Unnamed: 0                                               text  Emotion\n",
       "0                0  i seriously hate one subject to death but now ...     hate\n",
       "1                1                 im so full of life i feel appalled  neutral\n",
       "2                2  i sit here to write i start to dig out my feel...  neutral\n",
       "3                3  ive been really angry with r and i feel like a...    anger\n",
       "4                4  i feel suspicious if there is no one outside l...  neutral\n",
       "...            ...                                                ...      ...\n",
       "839550      839550  i feel like telling these horny devils to find...  neutral\n",
       "839551      839551  i began to realize that when i was feeling agi...  neutral\n",
       "839552      839552  i feel very curious be why previous early dawn...  neutral\n",
       "839553      839553  i feel that becuase of the tyranical nature of...  neutral\n",
       "839554      839554  i think that after i had spent some time inves...  neutral\n",
       "\n",
       "[839555 rows x 3 columns]"
      ]
     },
     "execution_count": 32,
     "metadata": {},
     "output_type": "execute_result"
    }
   ],
   "source": [
    "df=pd.read_csv(\"disease/emotion_sentimen_dataset.csv\")\n",
    "df"
   ]
  },
  {
   "cell_type": "code",
   "execution_count": 33,
   "id": "fc13889a-0b56-4fbe-8a4f-620966227911",
   "metadata": {},
   "outputs": [
    {
     "name": "stdout",
     "output_type": "stream",
     "text": [
      "<class 'pandas.core.frame.DataFrame'>\n",
      "RangeIndex: 839555 entries, 0 to 839554\n",
      "Data columns (total 3 columns):\n",
      " #   Column      Non-Null Count   Dtype \n",
      "---  ------      --------------   ----- \n",
      " 0   Unnamed: 0  839555 non-null  int64 \n",
      " 1   text        839555 non-null  object\n",
      " 2   Emotion     839555 non-null  object\n",
      "dtypes: int64(1), object(2)\n",
      "memory usage: 19.2+ MB\n"
     ]
    }
   ],
   "source": [
    "df.info()"
   ]
  },
  {
   "cell_type": "code",
   "execution_count": 34,
   "id": "9c005625-2ba0-4d47-9134-e589d413f133",
   "metadata": {},
   "outputs": [
    {
     "data": {
      "text/html": [
       "<div>\n",
       "<style scoped>\n",
       "    .dataframe tbody tr th:only-of-type {\n",
       "        vertical-align: middle;\n",
       "    }\n",
       "\n",
       "    .dataframe tbody tr th {\n",
       "        vertical-align: top;\n",
       "    }\n",
       "\n",
       "    .dataframe thead th {\n",
       "        text-align: right;\n",
       "    }\n",
       "</style>\n",
       "<table border=\"1\" class=\"dataframe\">\n",
       "  <thead>\n",
       "    <tr style=\"text-align: right;\">\n",
       "      <th></th>\n",
       "      <th>Unnamed: 0</th>\n",
       "      <th>text</th>\n",
       "      <th>Emotion</th>\n",
       "    </tr>\n",
       "  </thead>\n",
       "  <tbody>\n",
       "    <tr>\n",
       "      <th>0</th>\n",
       "      <td>0</td>\n",
       "      <td>i seriously hate one subject to death but now ...</td>\n",
       "      <td>hate</td>\n",
       "    </tr>\n",
       "    <tr>\n",
       "      <th>1</th>\n",
       "      <td>1</td>\n",
       "      <td>im so full of life i feel appalled</td>\n",
       "      <td>neutral</td>\n",
       "    </tr>\n",
       "    <tr>\n",
       "      <th>2</th>\n",
       "      <td>2</td>\n",
       "      <td>i sit here to write i start to dig out my feel...</td>\n",
       "      <td>neutral</td>\n",
       "    </tr>\n",
       "    <tr>\n",
       "      <th>3</th>\n",
       "      <td>3</td>\n",
       "      <td>ive been really angry with r and i feel like a...</td>\n",
       "      <td>anger</td>\n",
       "    </tr>\n",
       "    <tr>\n",
       "      <th>4</th>\n",
       "      <td>4</td>\n",
       "      <td>i feel suspicious if there is no one outside l...</td>\n",
       "      <td>neutral</td>\n",
       "    </tr>\n",
       "  </tbody>\n",
       "</table>\n",
       "</div>"
      ],
      "text/plain": [
       "   Unnamed: 0                                               text  Emotion\n",
       "0           0  i seriously hate one subject to death but now ...     hate\n",
       "1           1                 im so full of life i feel appalled  neutral\n",
       "2           2  i sit here to write i start to dig out my feel...  neutral\n",
       "3           3  ive been really angry with r and i feel like a...    anger\n",
       "4           4  i feel suspicious if there is no one outside l...  neutral"
      ]
     },
     "execution_count": 34,
     "metadata": {},
     "output_type": "execute_result"
    }
   ],
   "source": [
    "df.head()"
   ]
  },
  {
   "cell_type": "code",
   "execution_count": 35,
   "id": "fe5541bf-1e8d-4bbb-8fdb-9026f9668bd8",
   "metadata": {},
   "outputs": [
    {
     "data": {
      "text/html": [
       "<div>\n",
       "<style scoped>\n",
       "    .dataframe tbody tr th:only-of-type {\n",
       "        vertical-align: middle;\n",
       "    }\n",
       "\n",
       "    .dataframe tbody tr th {\n",
       "        vertical-align: top;\n",
       "    }\n",
       "\n",
       "    .dataframe thead th {\n",
       "        text-align: right;\n",
       "    }\n",
       "</style>\n",
       "<table border=\"1\" class=\"dataframe\">\n",
       "  <thead>\n",
       "    <tr style=\"text-align: right;\">\n",
       "      <th></th>\n",
       "      <th>Unnamed: 0</th>\n",
       "      <th>text</th>\n",
       "      <th>Emotion</th>\n",
       "    </tr>\n",
       "  </thead>\n",
       "  <tbody>\n",
       "    <tr>\n",
       "      <th>839550</th>\n",
       "      <td>839550</td>\n",
       "      <td>i feel like telling these horny devils to find...</td>\n",
       "      <td>neutral</td>\n",
       "    </tr>\n",
       "    <tr>\n",
       "      <th>839551</th>\n",
       "      <td>839551</td>\n",
       "      <td>i began to realize that when i was feeling agi...</td>\n",
       "      <td>neutral</td>\n",
       "    </tr>\n",
       "    <tr>\n",
       "      <th>839552</th>\n",
       "      <td>839552</td>\n",
       "      <td>i feel very curious be why previous early dawn...</td>\n",
       "      <td>neutral</td>\n",
       "    </tr>\n",
       "    <tr>\n",
       "      <th>839553</th>\n",
       "      <td>839553</td>\n",
       "      <td>i feel that becuase of the tyranical nature of...</td>\n",
       "      <td>neutral</td>\n",
       "    </tr>\n",
       "    <tr>\n",
       "      <th>839554</th>\n",
       "      <td>839554</td>\n",
       "      <td>i think that after i had spent some time inves...</td>\n",
       "      <td>neutral</td>\n",
       "    </tr>\n",
       "  </tbody>\n",
       "</table>\n",
       "</div>"
      ],
      "text/plain": [
       "        Unnamed: 0                                               text  Emotion\n",
       "839550      839550  i feel like telling these horny devils to find...  neutral\n",
       "839551      839551  i began to realize that when i was feeling agi...  neutral\n",
       "839552      839552  i feel very curious be why previous early dawn...  neutral\n",
       "839553      839553  i feel that becuase of the tyranical nature of...  neutral\n",
       "839554      839554  i think that after i had spent some time inves...  neutral"
      ]
     },
     "execution_count": 35,
     "metadata": {},
     "output_type": "execute_result"
    }
   ],
   "source": [
    "df.tail()"
   ]
  },
  {
   "cell_type": "code",
   "execution_count": 36,
   "id": "ffc5e877-25e5-4c89-bca7-f4b6fef5336f",
   "metadata": {},
   "outputs": [
    {
     "data": {
      "text/plain": [
       "2518665"
      ]
     },
     "execution_count": 36,
     "metadata": {},
     "output_type": "execute_result"
    }
   ],
   "source": [
    "df.size"
   ]
  },
  {
   "cell_type": "code",
   "execution_count": 37,
   "id": "e8e03d3e-848c-4ff6-93cd-bc66d8ba7bda",
   "metadata": {},
   "outputs": [
    {
     "data": {
      "text/plain": [
       "(839555, 3)"
      ]
     },
     "execution_count": 37,
     "metadata": {},
     "output_type": "execute_result"
    }
   ],
   "source": [
    "df.shape"
   ]
  },
  {
   "cell_type": "code",
   "execution_count": 38,
   "id": "ce74a3c8-5d1f-4806-9d2d-50bca0177fc5",
   "metadata": {},
   "outputs": [
    {
     "data": {
      "text/plain": [
       "Index(['Unnamed: 0', 'text', 'Emotion'], dtype='object')"
      ]
     },
     "execution_count": 38,
     "metadata": {},
     "output_type": "execute_result"
    }
   ],
   "source": [
    "df.columns"
   ]
  },
  {
   "cell_type": "markdown",
   "id": "ab621f6a-01da-40ea-bff9-5ddb10d0f2ca",
   "metadata": {},
   "source": [
    "# 4.disease outbreak dataset"
   ]
  },
  {
   "cell_type": "code",
   "execution_count": 39,
   "id": "2ead2ddd-6054-4156-a66a-faece4d26d72",
   "metadata": {},
   "outputs": [
    {
     "data": {
      "text/html": [
       "<div>\n",
       "<style scoped>\n",
       "    .dataframe tbody tr th:only-of-type {\n",
       "        vertical-align: middle;\n",
       "    }\n",
       "\n",
       "    .dataframe tbody tr th {\n",
       "        vertical-align: top;\n",
       "    }\n",
       "\n",
       "    .dataframe thead th {\n",
       "        text-align: right;\n",
       "    }\n",
       "</style>\n",
       "<table border=\"1\" class=\"dataframe\">\n",
       "  <thead>\n",
       "    <tr style=\"text-align: right;\">\n",
       "      <th></th>\n",
       "      <th>Unnamed: 0</th>\n",
       "      <th>date</th>\n",
       "      <th>region</th>\n",
       "      <th>score</th>\n",
       "    </tr>\n",
       "  </thead>\n",
       "  <tbody>\n",
       "    <tr>\n",
       "      <th>0</th>\n",
       "      <td>0</td>\n",
       "      <td>2009-01-01</td>\n",
       "      <td>AU</td>\n",
       "      <td>-0.527608</td>\n",
       "    </tr>\n",
       "    <tr>\n",
       "      <th>1</th>\n",
       "      <td>1</td>\n",
       "      <td>2009-01-01</td>\n",
       "      <td>BF</td>\n",
       "      <td>-0.735117</td>\n",
       "    </tr>\n",
       "    <tr>\n",
       "      <th>2</th>\n",
       "      <td>2</td>\n",
       "      <td>2009-01-01</td>\n",
       "      <td>BW</td>\n",
       "      <td>-0.747728</td>\n",
       "    </tr>\n",
       "    <tr>\n",
       "      <th>3</th>\n",
       "      <td>3</td>\n",
       "      <td>2009-01-01</td>\n",
       "      <td>CF</td>\n",
       "      <td>-0.500000</td>\n",
       "    </tr>\n",
       "    <tr>\n",
       "      <th>4</th>\n",
       "      <td>4</td>\n",
       "      <td>2009-01-01</td>\n",
       "      <td>CH</td>\n",
       "      <td>-0.554464</td>\n",
       "    </tr>\n",
       "    <tr>\n",
       "      <th>...</th>\n",
       "      <td>...</td>\n",
       "      <td>...</td>\n",
       "      <td>...</td>\n",
       "      <td>...</td>\n",
       "    </tr>\n",
       "    <tr>\n",
       "      <th>8055</th>\n",
       "      <td>8055</td>\n",
       "      <td>2020-04-16</td>\n",
       "      <td>SA</td>\n",
       "      <td>-0.614940</td>\n",
       "    </tr>\n",
       "    <tr>\n",
       "      <th>8056</th>\n",
       "      <td>8056</td>\n",
       "      <td>2020-04-16</td>\n",
       "      <td>UA</td>\n",
       "      <td>-0.632255</td>\n",
       "    </tr>\n",
       "    <tr>\n",
       "      <th>8057</th>\n",
       "      <td>8057</td>\n",
       "      <td>2020-04-16</td>\n",
       "      <td>VE</td>\n",
       "      <td>-0.519230</td>\n",
       "    </tr>\n",
       "    <tr>\n",
       "      <th>8058</th>\n",
       "      <td>8058</td>\n",
       "      <td>2020-04-16</td>\n",
       "      <td>VN</td>\n",
       "      <td>-0.632896</td>\n",
       "    </tr>\n",
       "    <tr>\n",
       "      <th>8059</th>\n",
       "      <td>8059</td>\n",
       "      <td>2020-04-16</td>\n",
       "      <td>ZA</td>\n",
       "      <td>-0.601664</td>\n",
       "    </tr>\n",
       "  </tbody>\n",
       "</table>\n",
       "<p>8060 rows × 4 columns</p>\n",
       "</div>"
      ],
      "text/plain": [
       "      Unnamed: 0        date region     score\n",
       "0              0  2009-01-01     AU -0.527608\n",
       "1              1  2009-01-01     BF -0.735117\n",
       "2              2  2009-01-01     BW -0.747728\n",
       "3              3  2009-01-01     CF -0.500000\n",
       "4              4  2009-01-01     CH -0.554464\n",
       "...          ...         ...    ...       ...\n",
       "8055        8055  2020-04-16     SA -0.614940\n",
       "8056        8056  2020-04-16     UA -0.632255\n",
       "8057        8057  2020-04-16     VE -0.519230\n",
       "8058        8058  2020-04-16     VN -0.632896\n",
       "8059        8059  2020-04-16     ZA -0.601664\n",
       "\n",
       "[8060 rows x 4 columns]"
      ]
     },
     "execution_count": 39,
     "metadata": {},
     "output_type": "execute_result"
    }
   ],
   "source": [
    "df=pd.read_csv(\"disease/Big-Data-Analysis-Diseases-Outbreaks/final.csv\")\n",
    "df"
   ]
  },
  {
   "cell_type": "code",
   "execution_count": 40,
   "id": "d57f7953-5ce4-4792-9d2c-0d2fc3543aec",
   "metadata": {},
   "outputs": [
    {
     "name": "stdout",
     "output_type": "stream",
     "text": [
      "<class 'pandas.core.frame.DataFrame'>\n",
      "RangeIndex: 8060 entries, 0 to 8059\n",
      "Data columns (total 4 columns):\n",
      " #   Column      Non-Null Count  Dtype  \n",
      "---  ------      --------------  -----  \n",
      " 0   Unnamed: 0  8060 non-null   int64  \n",
      " 1   date        8060 non-null   object \n",
      " 2   region      8060 non-null   object \n",
      " 3   score       8060 non-null   float64\n",
      "dtypes: float64(1), int64(1), object(2)\n",
      "memory usage: 252.0+ KB\n"
     ]
    }
   ],
   "source": [
    "df.info()"
   ]
  },
  {
   "cell_type": "code",
   "execution_count": 41,
   "id": "aa41a3fc-49db-4115-9832-33b737f3c771",
   "metadata": {},
   "outputs": [
    {
     "data": {
      "text/plain": [
       "32240"
      ]
     },
     "execution_count": 41,
     "metadata": {},
     "output_type": "execute_result"
    }
   ],
   "source": [
    "df.size"
   ]
  },
  {
   "cell_type": "code",
   "execution_count": 42,
   "id": "ea08d51e-fd9b-407c-9197-09684c91925a",
   "metadata": {},
   "outputs": [
    {
     "data": {
      "text/plain": [
       "(8060, 4)"
      ]
     },
     "execution_count": 42,
     "metadata": {},
     "output_type": "execute_result"
    }
   ],
   "source": [
    "df.shape"
   ]
  },
  {
   "cell_type": "code",
   "execution_count": 43,
   "id": "89885f0e-4783-48a5-bb3d-34f15e63183f",
   "metadata": {},
   "outputs": [
    {
     "data": {
      "text/plain": [
       "Index(['Unnamed: 0', 'date', 'region', 'score'], dtype='object')"
      ]
     },
     "execution_count": 43,
     "metadata": {},
     "output_type": "execute_result"
    }
   ],
   "source": [
    "df.columns"
   ]
  },
  {
   "cell_type": "code",
   "execution_count": 44,
   "id": "a6ccdc9c-5be6-4546-a1ca-28a0619fcbcf",
   "metadata": {},
   "outputs": [
    {
     "data": {
      "text/html": [
       "<div>\n",
       "<style scoped>\n",
       "    .dataframe tbody tr th:only-of-type {\n",
       "        vertical-align: middle;\n",
       "    }\n",
       "\n",
       "    .dataframe tbody tr th {\n",
       "        vertical-align: top;\n",
       "    }\n",
       "\n",
       "    .dataframe thead th {\n",
       "        text-align: right;\n",
       "    }\n",
       "</style>\n",
       "<table border=\"1\" class=\"dataframe\">\n",
       "  <thead>\n",
       "    <tr style=\"text-align: right;\">\n",
       "      <th></th>\n",
       "      <th>Unnamed: 0</th>\n",
       "      <th>date</th>\n",
       "      <th>region</th>\n",
       "      <th>score</th>\n",
       "    </tr>\n",
       "  </thead>\n",
       "  <tbody>\n",
       "    <tr>\n",
       "      <th>0</th>\n",
       "      <td>0</td>\n",
       "      <td>2009-01-01</td>\n",
       "      <td>AU</td>\n",
       "      <td>-0.527608</td>\n",
       "    </tr>\n",
       "    <tr>\n",
       "      <th>1</th>\n",
       "      <td>1</td>\n",
       "      <td>2009-01-01</td>\n",
       "      <td>BF</td>\n",
       "      <td>-0.735117</td>\n",
       "    </tr>\n",
       "    <tr>\n",
       "      <th>2</th>\n",
       "      <td>2</td>\n",
       "      <td>2009-01-01</td>\n",
       "      <td>BW</td>\n",
       "      <td>-0.747728</td>\n",
       "    </tr>\n",
       "    <tr>\n",
       "      <th>3</th>\n",
       "      <td>3</td>\n",
       "      <td>2009-01-01</td>\n",
       "      <td>CF</td>\n",
       "      <td>-0.500000</td>\n",
       "    </tr>\n",
       "    <tr>\n",
       "      <th>4</th>\n",
       "      <td>4</td>\n",
       "      <td>2009-01-01</td>\n",
       "      <td>CH</td>\n",
       "      <td>-0.554464</td>\n",
       "    </tr>\n",
       "  </tbody>\n",
       "</table>\n",
       "</div>"
      ],
      "text/plain": [
       "   Unnamed: 0        date region     score\n",
       "0           0  2009-01-01     AU -0.527608\n",
       "1           1  2009-01-01     BF -0.735117\n",
       "2           2  2009-01-01     BW -0.747728\n",
       "3           3  2009-01-01     CF -0.500000\n",
       "4           4  2009-01-01     CH -0.554464"
      ]
     },
     "execution_count": 44,
     "metadata": {},
     "output_type": "execute_result"
    }
   ],
   "source": [
    "df.head()"
   ]
  },
  {
   "cell_type": "markdown",
   "id": "0cef37bc-23f0-4a8d-ac85-efcb26f6aba4",
   "metadata": {},
   "source": [
    "# 5.dataset"
   ]
  },
  {
   "cell_type": "code",
   "execution_count": 46,
   "id": "864e44ce-9c82-49e5-b80f-39bcb9fc9878",
   "metadata": {},
   "outputs": [
    {
     "data": {
      "text/html": [
       "<div>\n",
       "<style scoped>\n",
       "    .dataframe tbody tr th:only-of-type {\n",
       "        vertical-align: middle;\n",
       "    }\n",
       "\n",
       "    .dataframe tbody tr th {\n",
       "        vertical-align: top;\n",
       "    }\n",
       "\n",
       "    .dataframe thead th {\n",
       "        text-align: right;\n",
       "    }\n",
       "</style>\n",
       "<table border=\"1\" class=\"dataframe\">\n",
       "  <thead>\n",
       "    <tr style=\"text-align: right;\">\n",
       "      <th></th>\n",
       "      <th>Unnamed: 0</th>\n",
       "      <th>date</th>\n",
       "      <th>region</th>\n",
       "      <th>score</th>\n",
       "    </tr>\n",
       "  </thead>\n",
       "  <tbody>\n",
       "    <tr>\n",
       "      <th>0</th>\n",
       "      <td>0</td>\n",
       "      <td>2009-01-01</td>\n",
       "      <td>AU</td>\n",
       "      <td>-0.527608</td>\n",
       "    </tr>\n",
       "    <tr>\n",
       "      <th>1</th>\n",
       "      <td>1</td>\n",
       "      <td>2009-01-01</td>\n",
       "      <td>BF</td>\n",
       "      <td>-0.735117</td>\n",
       "    </tr>\n",
       "    <tr>\n",
       "      <th>2</th>\n",
       "      <td>2</td>\n",
       "      <td>2009-01-01</td>\n",
       "      <td>BW</td>\n",
       "      <td>-0.747728</td>\n",
       "    </tr>\n",
       "    <tr>\n",
       "      <th>3</th>\n",
       "      <td>3</td>\n",
       "      <td>2009-01-01</td>\n",
       "      <td>CF</td>\n",
       "      <td>-0.500000</td>\n",
       "    </tr>\n",
       "    <tr>\n",
       "      <th>4</th>\n",
       "      <td>4</td>\n",
       "      <td>2009-01-01</td>\n",
       "      <td>CH</td>\n",
       "      <td>-0.554464</td>\n",
       "    </tr>\n",
       "    <tr>\n",
       "      <th>...</th>\n",
       "      <td>...</td>\n",
       "      <td>...</td>\n",
       "      <td>...</td>\n",
       "      <td>...</td>\n",
       "    </tr>\n",
       "    <tr>\n",
       "      <th>8055</th>\n",
       "      <td>8055</td>\n",
       "      <td>2020-04-16</td>\n",
       "      <td>SA</td>\n",
       "      <td>-0.614940</td>\n",
       "    </tr>\n",
       "    <tr>\n",
       "      <th>8056</th>\n",
       "      <td>8056</td>\n",
       "      <td>2020-04-16</td>\n",
       "      <td>UA</td>\n",
       "      <td>-0.632255</td>\n",
       "    </tr>\n",
       "    <tr>\n",
       "      <th>8057</th>\n",
       "      <td>8057</td>\n",
       "      <td>2020-04-16</td>\n",
       "      <td>VE</td>\n",
       "      <td>-0.519230</td>\n",
       "    </tr>\n",
       "    <tr>\n",
       "      <th>8058</th>\n",
       "      <td>8058</td>\n",
       "      <td>2020-04-16</td>\n",
       "      <td>VN</td>\n",
       "      <td>-0.632896</td>\n",
       "    </tr>\n",
       "    <tr>\n",
       "      <th>8059</th>\n",
       "      <td>8059</td>\n",
       "      <td>2020-04-16</td>\n",
       "      <td>ZA</td>\n",
       "      <td>-0.601664</td>\n",
       "    </tr>\n",
       "  </tbody>\n",
       "</table>\n",
       "<p>8060 rows × 4 columns</p>\n",
       "</div>"
      ],
      "text/plain": [
       "      Unnamed: 0        date region     score\n",
       "0              0  2009-01-01     AU -0.527608\n",
       "1              1  2009-01-01     BF -0.735117\n",
       "2              2  2009-01-01     BW -0.747728\n",
       "3              3  2009-01-01     CF -0.500000\n",
       "4              4  2009-01-01     CH -0.554464\n",
       "...          ...         ...    ...       ...\n",
       "8055        8055  2020-04-16     SA -0.614940\n",
       "8056        8056  2020-04-16     UA -0.632255\n",
       "8057        8057  2020-04-16     VE -0.519230\n",
       "8058        8058  2020-04-16     VN -0.632896\n",
       "8059        8059  2020-04-16     ZA -0.601664\n",
       "\n",
       "[8060 rows x 4 columns]"
      ]
     },
     "execution_count": 46,
     "metadata": {},
     "output_type": "execute_result"
    }
   ],
   "source": [
    "df=pd.read_csv(\"disease/anomaly.csv\")\n",
    "df"
   ]
  },
  {
   "cell_type": "code",
   "execution_count": 47,
   "id": "c0cb0084-3c65-4b45-8916-7c1065a96180",
   "metadata": {},
   "outputs": [
    {
     "name": "stdout",
     "output_type": "stream",
     "text": [
      "<class 'pandas.core.frame.DataFrame'>\n",
      "RangeIndex: 8060 entries, 0 to 8059\n",
      "Data columns (total 4 columns):\n",
      " #   Column      Non-Null Count  Dtype  \n",
      "---  ------      --------------  -----  \n",
      " 0   Unnamed: 0  8060 non-null   int64  \n",
      " 1   date        8060 non-null   object \n",
      " 2   region      8060 non-null   object \n",
      " 3   score       8060 non-null   float64\n",
      "dtypes: float64(1), int64(1), object(2)\n",
      "memory usage: 252.0+ KB\n"
     ]
    }
   ],
   "source": [
    "df.info()"
   ]
  },
  {
   "cell_type": "code",
   "execution_count": 48,
   "id": "518cefb5-027f-4ae1-ab8f-b9d737d5da77",
   "metadata": {},
   "outputs": [
    {
     "data": {
      "text/plain": [
       "32240"
      ]
     },
     "execution_count": 48,
     "metadata": {},
     "output_type": "execute_result"
    }
   ],
   "source": [
    "df.size"
   ]
  },
  {
   "cell_type": "code",
   "execution_count": 49,
   "id": "0a049340-5cd7-4fc0-93a8-cdb0cbee01c3",
   "metadata": {},
   "outputs": [
    {
     "data": {
      "text/plain": [
       "(8060, 4)"
      ]
     },
     "execution_count": 49,
     "metadata": {},
     "output_type": "execute_result"
    }
   ],
   "source": [
    "df.shape"
   ]
  },
  {
   "cell_type": "markdown",
   "id": "64423053-dfe0-45bd-87b1-0e64bc0fdc79",
   "metadata": {},
   "source": [
    "# write a csv frm tsv and excel"
   ]
  },
  {
   "cell_type": "markdown",
   "id": "51835ce2-3872-452a-8e62-ba2a2782ae2f",
   "metadata": {},
   "source": [
    "# TSV to CSV"
   ]
  },
  {
   "cell_type": "code",
   "execution_count": 50,
   "id": "722dbc62-d7f6-4cd7-b975-aa675a841526",
   "metadata": {},
   "outputs": [
    {
     "data": {
      "text/html": [
       "<div>\n",
       "<style scoped>\n",
       "    .dataframe tbody tr th:only-of-type {\n",
       "        vertical-align: middle;\n",
       "    }\n",
       "\n",
       "    .dataframe tbody tr th {\n",
       "        vertical-align: top;\n",
       "    }\n",
       "\n",
       "    .dataframe thead th {\n",
       "        text-align: right;\n",
       "    }\n",
       "</style>\n",
       "<table border=\"1\" class=\"dataframe\">\n",
       "  <thead>\n",
       "    <tr style=\"text-align: right;\">\n",
       "      <th></th>\n",
       "      <th>,Name,Survived</th>\n",
       "    </tr>\n",
       "  </thead>\n",
       "  <tbody>\n",
       "    <tr>\n",
       "      <th>0</th>\n",
       "      <td>0,\"Braund, Mr. Owen Harris\",0</td>\n",
       "    </tr>\n",
       "    <tr>\n",
       "      <th>1</th>\n",
       "      <td>1,\"Cumings, Mrs. John Bradley (Florence Briggs...</td>\n",
       "    </tr>\n",
       "    <tr>\n",
       "      <th>2</th>\n",
       "      <td>2,\"Heikkinen, Miss. Laina\",1</td>\n",
       "    </tr>\n",
       "    <tr>\n",
       "      <th>3</th>\n",
       "      <td>3,\"Futrelle, Mrs. Jacques Heath (Lily May Peel...</td>\n",
       "    </tr>\n",
       "    <tr>\n",
       "      <th>4</th>\n",
       "      <td>4,\"Allen, Mr. William Henry\",0</td>\n",
       "    </tr>\n",
       "    <tr>\n",
       "      <th>...</th>\n",
       "      <td>...</td>\n",
       "    </tr>\n",
       "    <tr>\n",
       "      <th>886</th>\n",
       "      <td>886,\"Montvila, Rev. Juozas\",0</td>\n",
       "    </tr>\n",
       "    <tr>\n",
       "      <th>887</th>\n",
       "      <td>887,\"Graham, Miss. Margaret Edith\",1</td>\n",
       "    </tr>\n",
       "    <tr>\n",
       "      <th>888</th>\n",
       "      <td>888,\"Johnston, Miss. Catherine Helen \"\"Carrie\"...</td>\n",
       "    </tr>\n",
       "    <tr>\n",
       "      <th>889</th>\n",
       "      <td>889,\"Behr, Mr. Karl Howell\",1</td>\n",
       "    </tr>\n",
       "    <tr>\n",
       "      <th>890</th>\n",
       "      <td>890,\"Dooley, Mr. Patrick\",0</td>\n",
       "    </tr>\n",
       "  </tbody>\n",
       "</table>\n",
       "<p>891 rows × 1 columns</p>\n",
       "</div>"
      ],
      "text/plain": [
       "                                        ,Name,Survived\n",
       "0                        0,\"Braund, Mr. Owen Harris\",0\n",
       "1    1,\"Cumings, Mrs. John Bradley (Florence Briggs...\n",
       "2                         2,\"Heikkinen, Miss. Laina\",1\n",
       "3    3,\"Futrelle, Mrs. Jacques Heath (Lily May Peel...\n",
       "4                       4,\"Allen, Mr. William Henry\",0\n",
       "..                                                 ...\n",
       "886                      886,\"Montvila, Rev. Juozas\",0\n",
       "887               887,\"Graham, Miss. Margaret Edith\",1\n",
       "888  888,\"Johnston, Miss. Catherine Helen \"\"Carrie\"...\n",
       "889                      889,\"Behr, Mr. Karl Howell\",1\n",
       "890                        890,\"Dooley, Mr. Patrick\",0\n",
       "\n",
       "[891 rows x 1 columns]"
      ]
     },
     "execution_count": 50,
     "metadata": {},
     "output_type": "execute_result"
    }
   ],
   "source": [
    "t=pd.read_table(\"pandas_docs/titan.csv\")\n",
    "t"
   ]
  },
  {
   "cell_type": "code",
   "execution_count": 51,
   "id": "637ed517-a5e9-449d-82eb-0cc46e5361e2",
   "metadata": {},
   "outputs": [],
   "source": [
    "t.to_csv(\"survivers.csv\")"
   ]
  },
  {
   "cell_type": "code",
   "execution_count": 52,
   "id": "b6c9fb7b-bb47-4134-bec5-6c7fdb2da535",
   "metadata": {},
   "outputs": [
    {
     "data": {
      "text/html": [
       "<div>\n",
       "<style scoped>\n",
       "    .dataframe tbody tr th:only-of-type {\n",
       "        vertical-align: middle;\n",
       "    }\n",
       "\n",
       "    .dataframe tbody tr th {\n",
       "        vertical-align: top;\n",
       "    }\n",
       "\n",
       "    .dataframe thead th {\n",
       "        text-align: right;\n",
       "    }\n",
       "</style>\n",
       "<table border=\"1\" class=\"dataframe\">\n",
       "  <thead>\n",
       "    <tr style=\"text-align: right;\">\n",
       "      <th></th>\n",
       "      <th>Unnamed: 0</th>\n",
       "      <th>,Name,Survived</th>\n",
       "    </tr>\n",
       "  </thead>\n",
       "  <tbody>\n",
       "    <tr>\n",
       "      <th>0</th>\n",
       "      <td>0</td>\n",
       "      <td>0,\"Braund, Mr. Owen Harris\",0</td>\n",
       "    </tr>\n",
       "    <tr>\n",
       "      <th>1</th>\n",
       "      <td>1</td>\n",
       "      <td>1,\"Cumings, Mrs. John Bradley (Florence Briggs...</td>\n",
       "    </tr>\n",
       "    <tr>\n",
       "      <th>2</th>\n",
       "      <td>2</td>\n",
       "      <td>2,\"Heikkinen, Miss. Laina\",1</td>\n",
       "    </tr>\n",
       "    <tr>\n",
       "      <th>3</th>\n",
       "      <td>3</td>\n",
       "      <td>3,\"Futrelle, Mrs. Jacques Heath (Lily May Peel...</td>\n",
       "    </tr>\n",
       "    <tr>\n",
       "      <th>4</th>\n",
       "      <td>4</td>\n",
       "      <td>4,\"Allen, Mr. William Henry\",0</td>\n",
       "    </tr>\n",
       "    <tr>\n",
       "      <th>...</th>\n",
       "      <td>...</td>\n",
       "      <td>...</td>\n",
       "    </tr>\n",
       "    <tr>\n",
       "      <th>886</th>\n",
       "      <td>886</td>\n",
       "      <td>886,\"Montvila, Rev. Juozas\",0</td>\n",
       "    </tr>\n",
       "    <tr>\n",
       "      <th>887</th>\n",
       "      <td>887</td>\n",
       "      <td>887,\"Graham, Miss. Margaret Edith\",1</td>\n",
       "    </tr>\n",
       "    <tr>\n",
       "      <th>888</th>\n",
       "      <td>888</td>\n",
       "      <td>888,\"Johnston, Miss. Catherine Helen \"\"Carrie\"...</td>\n",
       "    </tr>\n",
       "    <tr>\n",
       "      <th>889</th>\n",
       "      <td>889</td>\n",
       "      <td>889,\"Behr, Mr. Karl Howell\",1</td>\n",
       "    </tr>\n",
       "    <tr>\n",
       "      <th>890</th>\n",
       "      <td>890</td>\n",
       "      <td>890,\"Dooley, Mr. Patrick\",0</td>\n",
       "    </tr>\n",
       "  </tbody>\n",
       "</table>\n",
       "<p>891 rows × 2 columns</p>\n",
       "</div>"
      ],
      "text/plain": [
       "     Unnamed: 0                                     ,Name,Survived\n",
       "0             0                      0,\"Braund, Mr. Owen Harris\",0\n",
       "1             1  1,\"Cumings, Mrs. John Bradley (Florence Briggs...\n",
       "2             2                       2,\"Heikkinen, Miss. Laina\",1\n",
       "3             3  3,\"Futrelle, Mrs. Jacques Heath (Lily May Peel...\n",
       "4             4                     4,\"Allen, Mr. William Henry\",0\n",
       "..          ...                                                ...\n",
       "886         886                      886,\"Montvila, Rev. Juozas\",0\n",
       "887         887               887,\"Graham, Miss. Margaret Edith\",1\n",
       "888         888  888,\"Johnston, Miss. Catherine Helen \"\"Carrie\"...\n",
       "889         889                      889,\"Behr, Mr. Karl Howell\",1\n",
       "890         890                        890,\"Dooley, Mr. Patrick\",0\n",
       "\n",
       "[891 rows x 2 columns]"
      ]
     },
     "execution_count": 52,
     "metadata": {},
     "output_type": "execute_result"
    }
   ],
   "source": [
    "pd.read_csv(\"survivers.csv\")"
   ]
  },
  {
   "cell_type": "markdown",
   "id": "2c51fd58-343d-49b9-b35b-d351735b01b6",
   "metadata": {},
   "source": [
    "# EXCEL TO CSV"
   ]
  },
  {
   "cell_type": "code",
   "execution_count": 54,
   "id": "b9a5272e-5c07-4e40-84e8-ebd7584c39d5",
   "metadata": {},
   "outputs": [
    {
     "data": {
      "text/html": [
       "<div>\n",
       "<style scoped>\n",
       "    .dataframe tbody tr th:only-of-type {\n",
       "        vertical-align: middle;\n",
       "    }\n",
       "\n",
       "    .dataframe tbody tr th {\n",
       "        vertical-align: top;\n",
       "    }\n",
       "\n",
       "    .dataframe thead th {\n",
       "        text-align: right;\n",
       "    }\n",
       "</style>\n",
       "<table border=\"1\" class=\"dataframe\">\n",
       "  <thead>\n",
       "    <tr style=\"text-align: right;\">\n",
       "      <th></th>\n",
       "      <th>rttts</th>\n",
       "      <th>shjhhjh</th>\n",
       "    </tr>\n",
       "  </thead>\n",
       "  <tbody>\n",
       "    <tr>\n",
       "      <th>0</th>\n",
       "      <td>nemi</td>\n",
       "      <td>30</td>\n",
       "    </tr>\n",
       "    <tr>\n",
       "      <th>1</th>\n",
       "      <td>adnan</td>\n",
       "      <td>30</td>\n",
       "    </tr>\n",
       "    <tr>\n",
       "      <th>2</th>\n",
       "      <td>yasir</td>\n",
       "      <td>30</td>\n",
       "    </tr>\n",
       "    <tr>\n",
       "      <th>3</th>\n",
       "      <td>jdj</td>\n",
       "      <td>kddlk</td>\n",
       "    </tr>\n",
       "  </tbody>\n",
       "</table>\n",
       "</div>"
      ],
      "text/plain": [
       "   rttts shjhhjh\n",
       "0   nemi      30\n",
       "1  adnan      30\n",
       "2  yasir      30\n",
       "3    jdj   kddlk"
      ]
     },
     "execution_count": 54,
     "metadata": {},
     "output_type": "execute_result"
    }
   ],
   "source": [
    "e=pd.read_excel(\"pandas_docs/myexcel\")\n",
    "e"
   ]
  },
  {
   "cell_type": "code",
   "execution_count": 55,
   "id": "6362c8dd-91f5-4bfc-9e39-d97ff056cb51",
   "metadata": {},
   "outputs": [],
   "source": [
    "e.to_csv(\"new.csv\")"
   ]
  },
  {
   "cell_type": "code",
   "execution_count": 56,
   "id": "cb67f132-05db-428f-b24f-70904c541bb4",
   "metadata": {},
   "outputs": [
    {
     "data": {
      "text/html": [
       "<div>\n",
       "<style scoped>\n",
       "    .dataframe tbody tr th:only-of-type {\n",
       "        vertical-align: middle;\n",
       "    }\n",
       "\n",
       "    .dataframe tbody tr th {\n",
       "        vertical-align: top;\n",
       "    }\n",
       "\n",
       "    .dataframe thead th {\n",
       "        text-align: right;\n",
       "    }\n",
       "</style>\n",
       "<table border=\"1\" class=\"dataframe\">\n",
       "  <thead>\n",
       "    <tr style=\"text-align: right;\">\n",
       "      <th></th>\n",
       "      <th>Unnamed: 0</th>\n",
       "      <th>rttts</th>\n",
       "      <th>shjhhjh</th>\n",
       "    </tr>\n",
       "  </thead>\n",
       "  <tbody>\n",
       "    <tr>\n",
       "      <th>0</th>\n",
       "      <td>0</td>\n",
       "      <td>nemi</td>\n",
       "      <td>30</td>\n",
       "    </tr>\n",
       "    <tr>\n",
       "      <th>1</th>\n",
       "      <td>1</td>\n",
       "      <td>adnan</td>\n",
       "      <td>30</td>\n",
       "    </tr>\n",
       "    <tr>\n",
       "      <th>2</th>\n",
       "      <td>2</td>\n",
       "      <td>yasir</td>\n",
       "      <td>30</td>\n",
       "    </tr>\n",
       "    <tr>\n",
       "      <th>3</th>\n",
       "      <td>3</td>\n",
       "      <td>jdj</td>\n",
       "      <td>kddlk</td>\n",
       "    </tr>\n",
       "  </tbody>\n",
       "</table>\n",
       "</div>"
      ],
      "text/plain": [
       "   Unnamed: 0  rttts shjhhjh\n",
       "0           0   nemi      30\n",
       "1           1  adnan      30\n",
       "2           2  yasir      30\n",
       "3           3    jdj   kddlk"
      ]
     },
     "execution_count": 56,
     "metadata": {},
     "output_type": "execute_result"
    }
   ],
   "source": [
    "pd.read_csv(\"new.csv\")"
   ]
  },
  {
   "cell_type": "markdown",
   "id": "68e85bff-d907-4f8c-a7dd-acfd777d9f06",
   "metadata": {},
   "source": [
    "# Read Dataset from various sources"
   ]
  },
  {
   "cell_type": "markdown",
   "id": "0df7366c-be5d-4021-bfb6-e9a492125664",
   "metadata": {},
   "source": [
    "# Dataset from kaggle"
   ]
  },
  {
   "cell_type": "code",
   "execution_count": 57,
   "id": "b12829bd-06b9-4329-91f6-d302cbef4c15",
   "metadata": {},
   "outputs": [
    {
     "data": {
      "text/html": [
       "<div>\n",
       "<style scoped>\n",
       "    .dataframe tbody tr th:only-of-type {\n",
       "        vertical-align: middle;\n",
       "    }\n",
       "\n",
       "    .dataframe tbody tr th {\n",
       "        vertical-align: top;\n",
       "    }\n",
       "\n",
       "    .dataframe thead th {\n",
       "        text-align: right;\n",
       "    }\n",
       "</style>\n",
       "<table border=\"1\" class=\"dataframe\">\n",
       "  <thead>\n",
       "    <tr style=\"text-align: right;\">\n",
       "      <th></th>\n",
       "      <th>id</th>\n",
       "      <th>name</th>\n",
       "      <th>gender</th>\n",
       "      <th>age</th>\n",
       "      <th>degree</th>\n",
       "      <th>stream</th>\n",
       "      <th>college_name</th>\n",
       "      <th>placement_status</th>\n",
       "      <th>salary</th>\n",
       "      <th>gpa</th>\n",
       "      <th>years_of_experience</th>\n",
       "    </tr>\n",
       "  </thead>\n",
       "  <tbody>\n",
       "    <tr>\n",
       "      <th>0</th>\n",
       "      <td>1</td>\n",
       "      <td>John Doe</td>\n",
       "      <td>Male</td>\n",
       "      <td>25</td>\n",
       "      <td>Bachelor's</td>\n",
       "      <td>Computer Science</td>\n",
       "      <td>Harvard University</td>\n",
       "      <td>Placed</td>\n",
       "      <td>60000</td>\n",
       "      <td>3.7</td>\n",
       "      <td>2.0</td>\n",
       "    </tr>\n",
       "    <tr>\n",
       "      <th>1</th>\n",
       "      <td>2</td>\n",
       "      <td>Jane Smith</td>\n",
       "      <td>Female</td>\n",
       "      <td>24</td>\n",
       "      <td>Bachelor's</td>\n",
       "      <td>Electrical Engineering</td>\n",
       "      <td>Massachusetts Institute of Technology</td>\n",
       "      <td>Placed</td>\n",
       "      <td>65000</td>\n",
       "      <td>3.6</td>\n",
       "      <td>1.0</td>\n",
       "    </tr>\n",
       "    <tr>\n",
       "      <th>2</th>\n",
       "      <td>3</td>\n",
       "      <td>Michael Johnson</td>\n",
       "      <td>Male</td>\n",
       "      <td>26</td>\n",
       "      <td>Bachelor's</td>\n",
       "      <td>Mechanical Engineering</td>\n",
       "      <td>Stanford University</td>\n",
       "      <td>Placed</td>\n",
       "      <td>58000</td>\n",
       "      <td>3.8</td>\n",
       "      <td>3.0</td>\n",
       "    </tr>\n",
       "    <tr>\n",
       "      <th>3</th>\n",
       "      <td>4</td>\n",
       "      <td>Emily Davis</td>\n",
       "      <td>Female</td>\n",
       "      <td>23</td>\n",
       "      <td>Bachelor's</td>\n",
       "      <td>Information Technology</td>\n",
       "      <td>Yale University</td>\n",
       "      <td>Not Placed</td>\n",
       "      <td>0</td>\n",
       "      <td>3.5</td>\n",
       "      <td>2.0</td>\n",
       "    </tr>\n",
       "    <tr>\n",
       "      <th>4</th>\n",
       "      <td>5</td>\n",
       "      <td>David Brown</td>\n",
       "      <td>Male</td>\n",
       "      <td>24</td>\n",
       "      <td>Bachelor's</td>\n",
       "      <td>Computer Science</td>\n",
       "      <td>Princeton University</td>\n",
       "      <td>Placed</td>\n",
       "      <td>62000</td>\n",
       "      <td>3.9</td>\n",
       "      <td>2.0</td>\n",
       "    </tr>\n",
       "    <tr>\n",
       "      <th>...</th>\n",
       "      <td>...</td>\n",
       "      <td>...</td>\n",
       "      <td>...</td>\n",
       "      <td>...</td>\n",
       "      <td>...</td>\n",
       "      <td>...</td>\n",
       "      <td>...</td>\n",
       "      <td>...</td>\n",
       "      <td>...</td>\n",
       "      <td>...</td>\n",
       "      <td>...</td>\n",
       "    </tr>\n",
       "    <tr>\n",
       "      <th>695</th>\n",
       "      <td>696</td>\n",
       "      <td>Lucas Taylor</td>\n",
       "      <td>Male</td>\n",
       "      <td>23</td>\n",
       "      <td>Bachelor's</td>\n",
       "      <td>Computer Science</td>\n",
       "      <td>University of Washington</td>\n",
       "      <td>Placed</td>\n",
       "      <td>67000</td>\n",
       "      <td>3.8</td>\n",
       "      <td>3.0</td>\n",
       "    </tr>\n",
       "    <tr>\n",
       "      <th>696</th>\n",
       "      <td>697</td>\n",
       "      <td>Emma Martinez</td>\n",
       "      <td>Female</td>\n",
       "      <td>26</td>\n",
       "      <td>Bachelor's</td>\n",
       "      <td>Electronics and Communication</td>\n",
       "      <td>University of California--Berkeley</td>\n",
       "      <td>Placed</td>\n",
       "      <td>66000</td>\n",
       "      <td>3.9</td>\n",
       "      <td>3.0</td>\n",
       "    </tr>\n",
       "    <tr>\n",
       "      <th>697</th>\n",
       "      <td>698</td>\n",
       "      <td>Aiden Davis</td>\n",
       "      <td>Male</td>\n",
       "      <td>24</td>\n",
       "      <td>Bachelor's</td>\n",
       "      <td>Computer Science</td>\n",
       "      <td>University of Illinois--Urbana-Champaign</td>\n",
       "      <td>Placed</td>\n",
       "      <td>65000</td>\n",
       "      <td>3.8</td>\n",
       "      <td>3.0</td>\n",
       "    </tr>\n",
       "    <tr>\n",
       "      <th>698</th>\n",
       "      <td>699</td>\n",
       "      <td>Mia Wilson</td>\n",
       "      <td>Female</td>\n",
       "      <td>23</td>\n",
       "      <td>Bachelor's</td>\n",
       "      <td>Electrical Engineering</td>\n",
       "      <td>University of Colorado--Boulder</td>\n",
       "      <td>Placed</td>\n",
       "      <td>66000</td>\n",
       "      <td>3.7</td>\n",
       "      <td>2.0</td>\n",
       "    </tr>\n",
       "    <tr>\n",
       "      <th>699</th>\n",
       "      <td>700</td>\n",
       "      <td>Jack Garcia</td>\n",
       "      <td>Male</td>\n",
       "      <td>26</td>\n",
       "      <td>Bachelor's</td>\n",
       "      <td>Information Technology</td>\n",
       "      <td>University of North Carolina--Chapel Hill</td>\n",
       "      <td>Not Placed</td>\n",
       "      <td>0</td>\n",
       "      <td>3.6</td>\n",
       "      <td>1.0</td>\n",
       "    </tr>\n",
       "  </tbody>\n",
       "</table>\n",
       "<p>700 rows × 11 columns</p>\n",
       "</div>"
      ],
      "text/plain": [
       "      id             name  gender  age      degree  \\\n",
       "0      1         John Doe    Male   25  Bachelor's   \n",
       "1      2       Jane Smith  Female   24  Bachelor's   \n",
       "2      3  Michael Johnson    Male   26  Bachelor's   \n",
       "3      4      Emily Davis  Female   23  Bachelor's   \n",
       "4      5      David Brown    Male   24  Bachelor's   \n",
       "..   ...              ...     ...  ...         ...   \n",
       "695  696     Lucas Taylor    Male   23  Bachelor's   \n",
       "696  697    Emma Martinez  Female   26  Bachelor's   \n",
       "697  698      Aiden Davis    Male   24  Bachelor's   \n",
       "698  699       Mia Wilson  Female   23  Bachelor's   \n",
       "699  700      Jack Garcia    Male   26  Bachelor's   \n",
       "\n",
       "                            stream                               college_name  \\\n",
       "0                 Computer Science                         Harvard University   \n",
       "1           Electrical Engineering      Massachusetts Institute of Technology   \n",
       "2           Mechanical Engineering                        Stanford University   \n",
       "3           Information Technology                            Yale University   \n",
       "4                 Computer Science                       Princeton University   \n",
       "..                             ...                                        ...   \n",
       "695               Computer Science                   University of Washington   \n",
       "696  Electronics and Communication         University of California--Berkeley   \n",
       "697               Computer Science   University of Illinois--Urbana-Champaign   \n",
       "698         Electrical Engineering            University of Colorado--Boulder   \n",
       "699         Information Technology  University of North Carolina--Chapel Hill   \n",
       "\n",
       "    placement_status  salary  gpa  years_of_experience  \n",
       "0             Placed   60000  3.7                  2.0  \n",
       "1             Placed   65000  3.6                  1.0  \n",
       "2             Placed   58000  3.8                  3.0  \n",
       "3         Not Placed       0  3.5                  2.0  \n",
       "4             Placed   62000  3.9                  2.0  \n",
       "..               ...     ...  ...                  ...  \n",
       "695           Placed   67000  3.8                  3.0  \n",
       "696           Placed   66000  3.9                  3.0  \n",
       "697           Placed   65000  3.8                  3.0  \n",
       "698           Placed   66000  3.7                  2.0  \n",
       "699       Not Placed       0  3.6                  1.0  \n",
       "\n",
       "[700 rows x 11 columns]"
      ]
     },
     "execution_count": 57,
     "metadata": {},
     "output_type": "execute_result"
    }
   ],
   "source": [
    "pd.read_csv(\"jobplacement.csv\")"
   ]
  },
  {
   "cell_type": "markdown",
   "id": "3f90949a-53e6-4470-b254-829143a42b66",
   "metadata": {},
   "source": [
    "# Dataset from gov.in"
   ]
  },
  {
   "cell_type": "code",
   "execution_count": 58,
   "id": "4a328264-a921-4231-a283-4fb8cfda599b",
   "metadata": {},
   "outputs": [
    {
     "data": {
      "text/html": [
       "<div>\n",
       "<style scoped>\n",
       "    .dataframe tbody tr th:only-of-type {\n",
       "        vertical-align: middle;\n",
       "    }\n",
       "\n",
       "    .dataframe tbody tr th {\n",
       "        vertical-align: top;\n",
       "    }\n",
       "\n",
       "    .dataframe thead th {\n",
       "        text-align: right;\n",
       "    }\n",
       "</style>\n",
       "<table border=\"1\" class=\"dataframe\">\n",
       "  <thead>\n",
       "    <tr style=\"text-align: right;\">\n",
       "      <th></th>\n",
       "      <th>State</th>\n",
       "      <th>District</th>\n",
       "      <th>Total Gram Panchayats</th>\n",
       "      <th>Service Ready Gram Panchayats</th>\n",
       "    </tr>\n",
       "  </thead>\n",
       "  <tbody>\n",
       "    <tr>\n",
       "      <th>0</th>\n",
       "      <td>ANDAMAN AND NICOBAR ISLANDS</td>\n",
       "      <td>NICOBARS</td>\n",
       "      <td>8</td>\n",
       "      <td>7</td>\n",
       "    </tr>\n",
       "    <tr>\n",
       "      <th>1</th>\n",
       "      <td>ANDAMAN AND NICOBAR ISLANDS</td>\n",
       "      <td>NORTH AND MIDDLE ANDAMAN</td>\n",
       "      <td>37</td>\n",
       "      <td>37</td>\n",
       "    </tr>\n",
       "    <tr>\n",
       "      <th>2</th>\n",
       "      <td>ANDAMAN AND NICOBAR ISLANDS</td>\n",
       "      <td>SOUTH ANDAMANS</td>\n",
       "      <td>30</td>\n",
       "      <td>30</td>\n",
       "    </tr>\n",
       "    <tr>\n",
       "      <th>3</th>\n",
       "      <td>ANDHRA PRADESH</td>\n",
       "      <td>ANANTAPUR</td>\n",
       "      <td>1044</td>\n",
       "      <td>996</td>\n",
       "    </tr>\n",
       "    <tr>\n",
       "      <th>4</th>\n",
       "      <td>ANDHRA PRADESH</td>\n",
       "      <td>CHITTOOR</td>\n",
       "      <td>1412</td>\n",
       "      <td>1193</td>\n",
       "    </tr>\n",
       "    <tr>\n",
       "      <th>...</th>\n",
       "      <td>...</td>\n",
       "      <td>...</td>\n",
       "      <td>...</td>\n",
       "      <td>...</td>\n",
       "    </tr>\n",
       "    <tr>\n",
       "      <th>711</th>\n",
       "      <td>WEST BENGAL</td>\n",
       "      <td>NADIA</td>\n",
       "      <td>185</td>\n",
       "      <td>185</td>\n",
       "    </tr>\n",
       "    <tr>\n",
       "      <th>712</th>\n",
       "      <td>WEST BENGAL</td>\n",
       "      <td>PASCHIM BARDHAMAN</td>\n",
       "      <td>62</td>\n",
       "      <td>56</td>\n",
       "    </tr>\n",
       "    <tr>\n",
       "      <th>713</th>\n",
       "      <td>WEST BENGAL</td>\n",
       "      <td>PURBA BARDHAMAN</td>\n",
       "      <td>215</td>\n",
       "      <td>116</td>\n",
       "    </tr>\n",
       "    <tr>\n",
       "      <th>714</th>\n",
       "      <td>WEST BENGAL</td>\n",
       "      <td>PURULIA</td>\n",
       "      <td>170</td>\n",
       "      <td>170</td>\n",
       "    </tr>\n",
       "    <tr>\n",
       "      <th>715</th>\n",
       "      <td>Total</td>\n",
       "      <td>NaN</td>\n",
       "      <td>262489</td>\n",
       "      <td>208099</td>\n",
       "    </tr>\n",
       "  </tbody>\n",
       "</table>\n",
       "<p>716 rows × 4 columns</p>\n",
       "</div>"
      ],
      "text/plain": [
       "                          State                   District  \\\n",
       "0    ANDAMAN AND NICOBAR ISLANDS                  NICOBARS   \n",
       "1    ANDAMAN AND NICOBAR ISLANDS  NORTH AND MIDDLE ANDAMAN   \n",
       "2    ANDAMAN AND NICOBAR ISLANDS            SOUTH ANDAMANS   \n",
       "3                 ANDHRA PRADESH                 ANANTAPUR   \n",
       "4                 ANDHRA PRADESH                  CHITTOOR   \n",
       "..                           ...                       ...   \n",
       "711                  WEST BENGAL                     NADIA   \n",
       "712                  WEST BENGAL         PASCHIM BARDHAMAN   \n",
       "713                  WEST BENGAL           PURBA BARDHAMAN   \n",
       "714                  WEST BENGAL                   PURULIA   \n",
       "715                        Total                       NaN   \n",
       "\n",
       "     Total Gram Panchayats  Service Ready Gram Panchayats  \n",
       "0                        8                              7  \n",
       "1                       37                             37  \n",
       "2                       30                             30  \n",
       "3                     1044                            996  \n",
       "4                     1412                           1193  \n",
       "..                     ...                            ...  \n",
       "711                    185                            185  \n",
       "712                     62                             56  \n",
       "713                    215                            116  \n",
       "714                    170                            170  \n",
       "715                 262489                         208099  \n",
       "\n",
       "[716 rows x 4 columns]"
      ]
     },
     "execution_count": 58,
     "metadata": {},
     "output_type": "execute_result"
    }
   ],
   "source": [
    "pd.read_csv(\"datasetgov.csv\")"
   ]
  },
  {
   "cell_type": "markdown",
   "id": "dca3d603-1f58-4897-a3cf-cba9f108c352",
   "metadata": {},
   "source": [
    "# from github"
   ]
  },
  {
   "cell_type": "code",
   "execution_count": 59,
   "id": "217ea729-cc0f-4d00-9f9a-4fb299793fcd",
   "metadata": {},
   "outputs": [
    {
     "data": {
      "text/html": [
       "<div>\n",
       "<style scoped>\n",
       "    .dataframe tbody tr th:only-of-type {\n",
       "        vertical-align: middle;\n",
       "    }\n",
       "\n",
       "    .dataframe tbody tr th {\n",
       "        vertical-align: top;\n",
       "    }\n",
       "\n",
       "    .dataframe thead th {\n",
       "        text-align: right;\n",
       "    }\n",
       "</style>\n",
       "<table border=\"1\" class=\"dataframe\">\n",
       "  <thead>\n",
       "    <tr style=\"text-align: right;\">\n",
       "      <th></th>\n",
       "      <th>Unnamed: 0</th>\n",
       "      <th>date</th>\n",
       "      <th>region</th>\n",
       "      <th>score</th>\n",
       "    </tr>\n",
       "  </thead>\n",
       "  <tbody>\n",
       "    <tr>\n",
       "      <th>0</th>\n",
       "      <td>0</td>\n",
       "      <td>2009-01-01</td>\n",
       "      <td>AU</td>\n",
       "      <td>-0.527608</td>\n",
       "    </tr>\n",
       "    <tr>\n",
       "      <th>1</th>\n",
       "      <td>1</td>\n",
       "      <td>2009-01-01</td>\n",
       "      <td>BF</td>\n",
       "      <td>-0.735117</td>\n",
       "    </tr>\n",
       "    <tr>\n",
       "      <th>2</th>\n",
       "      <td>2</td>\n",
       "      <td>2009-01-01</td>\n",
       "      <td>BW</td>\n",
       "      <td>-0.747728</td>\n",
       "    </tr>\n",
       "    <tr>\n",
       "      <th>3</th>\n",
       "      <td>3</td>\n",
       "      <td>2009-01-01</td>\n",
       "      <td>CF</td>\n",
       "      <td>-0.500000</td>\n",
       "    </tr>\n",
       "    <tr>\n",
       "      <th>4</th>\n",
       "      <td>4</td>\n",
       "      <td>2009-01-01</td>\n",
       "      <td>CH</td>\n",
       "      <td>-0.554464</td>\n",
       "    </tr>\n",
       "    <tr>\n",
       "      <th>...</th>\n",
       "      <td>...</td>\n",
       "      <td>...</td>\n",
       "      <td>...</td>\n",
       "      <td>...</td>\n",
       "    </tr>\n",
       "    <tr>\n",
       "      <th>8055</th>\n",
       "      <td>8055</td>\n",
       "      <td>2020-04-16</td>\n",
       "      <td>SA</td>\n",
       "      <td>-0.614940</td>\n",
       "    </tr>\n",
       "    <tr>\n",
       "      <th>8056</th>\n",
       "      <td>8056</td>\n",
       "      <td>2020-04-16</td>\n",
       "      <td>UA</td>\n",
       "      <td>-0.632255</td>\n",
       "    </tr>\n",
       "    <tr>\n",
       "      <th>8057</th>\n",
       "      <td>8057</td>\n",
       "      <td>2020-04-16</td>\n",
       "      <td>VE</td>\n",
       "      <td>-0.519230</td>\n",
       "    </tr>\n",
       "    <tr>\n",
       "      <th>8058</th>\n",
       "      <td>8058</td>\n",
       "      <td>2020-04-16</td>\n",
       "      <td>VN</td>\n",
       "      <td>-0.632896</td>\n",
       "    </tr>\n",
       "    <tr>\n",
       "      <th>8059</th>\n",
       "      <td>8059</td>\n",
       "      <td>2020-04-16</td>\n",
       "      <td>ZA</td>\n",
       "      <td>-0.601664</td>\n",
       "    </tr>\n",
       "  </tbody>\n",
       "</table>\n",
       "<p>8060 rows × 4 columns</p>\n",
       "</div>"
      ],
      "text/plain": [
       "      Unnamed: 0        date region     score\n",
       "0              0  2009-01-01     AU -0.527608\n",
       "1              1  2009-01-01     BF -0.735117\n",
       "2              2  2009-01-01     BW -0.747728\n",
       "3              3  2009-01-01     CF -0.500000\n",
       "4              4  2009-01-01     CH -0.554464\n",
       "...          ...         ...    ...       ...\n",
       "8055        8055  2020-04-16     SA -0.614940\n",
       "8056        8056  2020-04-16     UA -0.632255\n",
       "8057        8057  2020-04-16     VE -0.519230\n",
       "8058        8058  2020-04-16     VN -0.632896\n",
       "8059        8059  2020-04-16     ZA -0.601664\n",
       "\n",
       "[8060 rows x 4 columns]"
      ]
     },
     "execution_count": 59,
     "metadata": {},
     "output_type": "execute_result"
    }
   ],
   "source": [
    "pd.read_csv(\"disease/anomaly.csv\")"
   ]
  },
  {
   "cell_type": "code",
   "execution_count": null,
   "id": "c328f37a-1faa-4b69-ab1e-30b694d4c256",
   "metadata": {},
   "outputs": [],
   "source": []
  }
 ],
 "metadata": {
  "kernelspec": {
   "display_name": "Python 3 (ipykernel)",
   "language": "python",
   "name": "python3"
  },
  "language_info": {
   "codemirror_mode": {
    "name": "ipython",
    "version": 3
   },
   "file_extension": ".py",
   "mimetype": "text/x-python",
   "name": "python",
   "nbconvert_exporter": "python",
   "pygments_lexer": "ipython3",
   "version": "3.11.7"
  }
 },
 "nbformat": 4,
 "nbformat_minor": 5
}
